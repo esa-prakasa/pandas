{
  "nbformat": 4,
  "nbformat_minor": 0,
  "metadata": {
    "colab": {
      "name": "dtreeCART.ipynb",
      "provenance": [],
      "collapsed_sections": [],
      "authorship_tag": "ABX9TyMoOafp1uyU2v7e5+oh1afK",
      "include_colab_link": true
    },
    "kernelspec": {
      "name": "python3",
      "display_name": "Python 3"
    },
    "language_info": {
      "name": "python"
    }
  },
  "cells": [
    {
      "cell_type": "markdown",
      "metadata": {
        "id": "view-in-github",
        "colab_type": "text"
      },
      "source": [
        "<a href=\"https://colab.research.google.com/github/esa-prakasa/pandas/blob/master/dtreeCART.ipynb\" target=\"_parent\"><img src=\"https://colab.research.google.com/assets/colab-badge.svg\" alt=\"Open In Colab\"/></a>"
      ]
    },
    {
      "cell_type": "code",
      "source": [
        "from google.colab import drive\n",
        "drive.mount('/content/drive')\n",
        "!ls -l \"/content/drive/My Drive/Colab Notebooks/dataset\""
      ],
      "metadata": {
        "colab": {
          "base_uri": "https://localhost:8080/"
        },
        "id": "awhBzanPNDQd",
        "outputId": "a2ed038c-2f50-4e73-fb9d-fceeb324e053"
      },
      "execution_count": null,
      "outputs": [
        {
          "output_type": "stream",
          "name": "stdout",
          "text": [
            "Mounted at /content/drive\n",
            "total 318499\n",
            "-rw------- 1 root root       168 Feb  7  2020  abc.csv\n",
            "-rw------- 1 root root     46323 Feb 11  2020  b15.jpg\n",
            "drwx------ 2 root root      4096 Apr 17  2020  csvfiles\n",
            "drwx------ 2 root root      4096 Apr 29  2020  csvtrain\n",
            "-rw------- 1 root root    310090 Feb  7  2020  juanda.jpg\n",
            "-rw------- 1 root root   3780462 Feb  7  2020  juantestbw.bmp\n",
            "-rw------- 1 root root    993426 Feb  7  2020  juantest.jpg\n",
            "-rw------- 1 root root   2458120 Feb 11  2020  keras_model.h5\n",
            "drwx------ 2 root root      4096 Apr 18  2020  ktest_01\n",
            "drwx------ 2 root root      4096 Apr 18  2020  ktest_02\n",
            "drwx------ 2 root root      4096 Apr 18  2020  ktest_03\n",
            "drwx------ 2 root root      4096 Apr 18  2020  ktest_04\n",
            "drwx------ 2 root root      4096 Apr 18  2020  ktest_05\n",
            "-rw------- 1 root root        15 Feb 11  2020  labels.txt\n",
            "-rw------- 1 root root      1969 May 20  2020  lane200_20pct_2ndArc.json\n",
            "-rw------- 1 root root      1971 Apr 29  2020  lane200_20pct.json\n",
            "-rw------- 1 root root     29928 May 20  2020  lane200_20pct_wg_2ndArc.h5\n",
            "-rw------- 1 root root     20680 Apr 29  2020  lane200_20pct_wg.h5\n",
            "-rw------- 1 root root       151 Feb  7  2020 'pima-indians-diabetes (1).data.csv.gdoc'\n",
            "-rw------- 1 root root     23278 Feb  7  2020  pima-indians-diabetes.data.csv\n",
            "-rw------- 1 root root       151 Feb  7  2020  pima-indians-diabetes.data.csv.gdoc\n",
            "-rw------- 1 root root     39617 Feb 11  2020  r15.jpg\n",
            "-rw------- 1 root root         0 Feb  7  2020  rc_result20200207150205.csv.csv\n",
            "-rw------- 1 root root   3780324 Feb  7  2020  rc_result20200207150222.csv.csv\n",
            "-rw------- 1 root root   3780324 Feb  7  2020  rc_result20200207160845.csv.csv\n",
            "drwx------ 2 root root      4096 Apr 29  2020  rdtest\n",
            "drwx------ 2 root root      4096 Apr 29  2020  rdtest-x\n",
            "-rw------- 1 root root  21367491 Feb  7  2020  result20200207112420.csv\n",
            "-rw------- 1 root root        30 Feb  7  2020  result20200207150205.csv\n",
            "-rw------- 1 root root  21367491 Feb  7  2020  result20200207150222.csv\n",
            "-rw------- 1 root root        30 Feb  7  2020  result20200207160845.csv\n",
            "-rw------- 1 root root        30 Apr 17  2020  result_roadFriday20200417095354.csv\n",
            "-rw------- 1 root root    215467 Apr 17  2020  result_roadFriday20200417095407.csv\n",
            "-rw------- 1 root root    196619 Apr 17  2020  result_roadFriday20200417095705.csv\n",
            "-rw------- 1 root root        30 Apr 17  2020  result_roadFriday20200417095728.csv\n",
            "-rw------- 1 root root  20535894 Feb  7  2020  rgb20200207145649.csv\n",
            "-rw------- 1 root root   6229258 Apr 16  2020  road20pct_200.csv\n",
            "-rw------- 1 root root      1970 Apr 16  2020  road_model_20pct200.json\n",
            "-rw------- 1 root root      1518 Feb  7  2020  road_model.json\n",
            "-rw------- 1 root root     18632 Apr 16  2020  road_wg_model_20pct200.h5\n",
            "-rw------- 1 root root     15872 Feb  7  2020  road_wg_model.h5\n",
            "-rw------- 1 root root        81 Jan  8 14:19  temp.csv\n",
            "-rw------- 1 root root  20422411 Feb  7  2020  test20200207170710.csv\n",
            "-rw------- 1 root root    300281 Apr 17  2020  test_road20pct_210.csv\n",
            "-rw------- 1 root root 220155548 May 20  2020  train_fSz_5_100_20pct.csv\n"
          ]
        }
      ]
    },
    {
      "cell_type": "code",
      "execution_count": null,
      "metadata": {
        "id": "OHg_KPqZBBvk"
      },
      "outputs": [],
      "source": [
        "import pandas as pd\n",
        "from sklearn.tree import DecisionTreeClassifier\n",
        "from sklearn.preprocessing import LabelEncoder\n",
        "from sklearn.model_selection import train_test_split"
      ]
    },
    {
      "cell_type": "code",
      "source": [
        "dataset = pd.read_csv(\"/content/drive/My Drive/Colab Notebooks/dataset/temp.csv\")\n",
        "dataset = pd.DataFrame(data=dataset.iloc[:,1:6].values,columns=[\"outlook\",\"temperature\",\"humidity\",\"windy\",\"play\"])\n",
        "# dataset\n",
        "le = LabelEncoder()\n",
        "dataset_encoded = dataset.iloc[:,0:5]\n",
        "# le.fit_transform(dataset_encoded[\"outlook\"])\n",
        "\n",
        "for i in dataset_encoded:\n",
        "  dataset_encoded[i] = le.fit_transform(dataset_encoded[i])\n",
        "\n",
        "print(dataset_encoded)\n",
        "print(dataset)"
      ],
      "metadata": {
        "colab": {
          "base_uri": "https://localhost:8080/"
        },
        "id": "tK3i8bCVEA0v",
        "outputId": "a90b5d8b-9438-49c2-c6ec-22a0f528f6d3"
      },
      "execution_count": null,
      "outputs": [
        {
          "output_type": "stream",
          "name": "stdout",
          "text": [
            "    outlook  temperature  humidity  windy  play\n",
            "0         1            1         0      0     0\n",
            "1         1            1         0      1     0\n",
            "2         0            1         0      0     1\n",
            "3         2            2         0      0     1\n",
            "4         2            0         1      0     1\n",
            "5         2            0         1      1     0\n",
            "6         0            0         1      1     1\n",
            "7         1            2         0      0     0\n",
            "8         1            0         1      0     1\n",
            "9         2            2         1      0     1\n",
            "10        1            2         1      0     1\n",
            "11        0            2         0      1     1\n",
            "12        0            1         1      0     1\n",
            "13        3            2         0      1     0\n",
            "     outlook temperature humidity  windy play\n",
            "0      Rainy         Hot     High  False   No\n",
            "1      Rainy         Hot     High   True   No\n",
            "2   Overcast         Hot     High  False  Yes\n",
            "3      Sunny        Mild     High  False  Yes\n",
            "4      Sunny        Cool   Normal  False  Yes\n",
            "5      Sunny        Cool   Normal   True   No\n",
            "6   Overcast        Cool   Normal   True  Yes\n",
            "7      Rainy        Mild     High  False   No\n",
            "8      Rainy        Cool   Normal  False  Yes\n",
            "9      Sunny        Mild   Normal  False  Yes\n",
            "10     Rainy        Mild   Normal  False  Yes\n",
            "11  Overcast        Mild     High   True  Yes\n",
            "12  Overcast         Hot   Normal  False  Yes\n",
            "13      Suny        Mild     High   True   No\n"
          ]
        }
      ]
    },
    {
      "cell_type": "code",
      "source": [
        "print(dataset_encoded.iloc[2,0])\n",
        "\n",
        "X = dataset_encoded.iloc[:,0:4]\n",
        "y = dataset_encoded.iloc[:,4]\n",
        "print(len(X))\n",
        "print(len(y))\n",
        "\n",
        "X_train, X_test, y_train, y_test = train_test_split(X,y, test_size=0.2)\n",
        "model = DecisionTreeClassifier(criterion='gini')\n",
        "model.fit(X_train, y_train)\n",
        "\n",
        "model_score()\n",
        "# print(model.predict([[0,1,0,0]]))"
      ],
      "metadata": {
        "colab": {
          "base_uri": "https://localhost:8080/"
        },
        "id": "aHTUMP0UjKsj",
        "outputId": "a7bb68a9-ad3d-4f87-d41b-1733f66979b9"
      },
      "execution_count": null,
      "outputs": [
        {
          "output_type": "stream",
          "name": "stdout",
          "text": [
            "0\n",
            "14\n",
            "14\n",
            "[1]\n"
          ]
        },
        {
          "output_type": "stream",
          "name": "stderr",
          "text": [
            "/usr/local/lib/python3.7/dist-packages/sklearn/base.py:446: UserWarning: X does not have valid feature names, but DecisionTreeClassifier was fitted with feature names\n",
            "  \"X does not have valid feature names, but\"\n"
          ]
        }
      ]
    }
  ]
}